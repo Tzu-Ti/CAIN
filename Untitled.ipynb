{
 "cells": [
  {
   "cell_type": "code",
   "execution_count": 2,
   "metadata": {},
   "outputs": [
    {
     "data": {
      "text/plain": [
       "['../data/vimeo90K_Done/1508/0022',\n",
       " '../data/vimeo90K_Done/1536/0007',\n",
       " '../data/vimeo90K_Done/0043/0006',\n",
       " '../data/vimeo90K_Done/3171/0042',\n",
       " '../data/vimeo90K_Done/3106/0074']"
      ]
     },
     "execution_count": 2,
     "metadata": {},
     "output_type": "execute_result"
    }
   ],
   "source": [
    "test_fn = 'test_list400.txt'\n",
    "with open(test_fn, 'r') as f:\n",
    "    imglist = f.read().splitlines()\n",
    "imglist[:5]"
   ]
  },
  {
   "cell_type": "code",
   "execution_count": 8,
   "metadata": {},
   "outputs": [],
   "source": [
    "new_list = []\n",
    "gen_indexes = [2, 4, 6]\n",
    "for index in gen_indexes:\n",
    "    for l in imglist:\n",
    "        new_list.append(l+' {}'.format(index))"
   ]
  },
  {
   "cell_type": "code",
   "execution_count": 10,
   "metadata": {},
   "outputs": [],
   "source": [
    "with open(\"test_list400_7.txt\", 'a') as f:\n",
    "    f.writelines([\"%s\\n\" % path  for path in new_list])"
   ]
  },
  {
   "cell_type": "code",
   "execution_count": null,
   "metadata": {},
   "outputs": [],
   "source": []
  }
 ],
 "metadata": {
  "kernelspec": {
   "display_name": "Python 3",
   "language": "python",
   "name": "python3"
  },
  "language_info": {
   "codemirror_mode": {
    "name": "ipython",
    "version": 3
   },
   "file_extension": ".py",
   "mimetype": "text/x-python",
   "name": "python",
   "nbconvert_exporter": "python",
   "pygments_lexer": "ipython3",
   "version": "3.6.9"
  }
 },
 "nbformat": 4,
 "nbformat_minor": 4
}
